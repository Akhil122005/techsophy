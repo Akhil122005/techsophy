{
  "nbformat": 4,
  "nbformat_minor": 0,
  "metadata": {
    "colab": {
      "provenance": [],
      "authorship_tag": "ABX9TyM5TPxNIOY7/9NibXe9Fcly",
      "include_colab_link": true
    },
    "kernelspec": {
      "name": "python3",
      "display_name": "Python 3"
    },
    "language_info": {
      "name": "python"
    }
  },
  "cells": [
    {
      "cell_type": "markdown",
      "metadata": {
        "id": "view-in-github",
        "colab_type": "text"
      },
      "source": [
        "<a href=\"https://colab.research.google.com/github/Akhil122005/techsophy/blob/main/deployment_risk_predictor.ipynb\" target=\"_parent\"><img src=\"https://colab.research.google.com/assets/colab-badge.svg\" alt=\"Open In Colab\"/></a>"
      ]
    },
    {
      "cell_type": "code",
      "execution_count": null,
      "metadata": {
        "colab": {
          "base_uri": "https://localhost:8080/"
        },
        "collapsed": true,
        "id": "_fFvI-ZeSJbj",
        "outputId": "0c707d7a-24a6-4c13-8cdc-814e4357e421"
      },
      "outputs": [
        {
          "output_type": "stream",
          "name": "stdout",
          "text": [
            "Requirement already satisfied: fastapi in /usr/local/lib/python3.11/dist-packages (0.115.14)\n",
            "Requirement already satisfied: uvicorn in /usr/local/lib/python3.11/dist-packages (0.35.0)\n",
            "Requirement already satisfied: scikit-learn in /usr/local/lib/python3.11/dist-packages (1.6.1)\n",
            "Requirement already satisfied: pandas in /usr/local/lib/python3.11/dist-packages (2.2.2)\n",
            "Requirement already satisfied: joblib in /usr/local/lib/python3.11/dist-packages (1.5.1)\n",
            "Requirement already satisfied: nest_asyncio in /usr/local/lib/python3.11/dist-packages (1.6.0)\n",
            "Requirement already satisfied: starlette<0.47.0,>=0.40.0 in /usr/local/lib/python3.11/dist-packages (from fastapi) (0.46.2)\n",
            "Requirement already satisfied: pydantic!=1.8,!=1.8.1,!=2.0.0,!=2.0.1,!=2.1.0,<3.0.0,>=1.7.4 in /usr/local/lib/python3.11/dist-packages (from fastapi) (2.11.7)\n",
            "Requirement already satisfied: typing-extensions>=4.8.0 in /usr/local/lib/python3.11/dist-packages (from fastapi) (4.14.0)\n",
            "Requirement already satisfied: click>=7.0 in /usr/local/lib/python3.11/dist-packages (from uvicorn) (8.2.1)\n",
            "Requirement already satisfied: h11>=0.8 in /usr/local/lib/python3.11/dist-packages (from uvicorn) (0.16.0)\n",
            "Requirement already satisfied: numpy>=1.19.5 in /usr/local/lib/python3.11/dist-packages (from scikit-learn) (2.0.2)\n",
            "Requirement already satisfied: scipy>=1.6.0 in /usr/local/lib/python3.11/dist-packages (from scikit-learn) (1.15.3)\n",
            "Requirement already satisfied: threadpoolctl>=3.1.0 in /usr/local/lib/python3.11/dist-packages (from scikit-learn) (3.6.0)\n",
            "Requirement already satisfied: python-dateutil>=2.8.2 in /usr/local/lib/python3.11/dist-packages (from pandas) (2.9.0.post0)\n",
            "Requirement already satisfied: pytz>=2020.1 in /usr/local/lib/python3.11/dist-packages (from pandas) (2025.2)\n",
            "Requirement already satisfied: tzdata>=2022.7 in /usr/local/lib/python3.11/dist-packages (from pandas) (2025.2)\n",
            "Requirement already satisfied: annotated-types>=0.6.0 in /usr/local/lib/python3.11/dist-packages (from pydantic!=1.8,!=1.8.1,!=2.0.0,!=2.0.1,!=2.1.0,<3.0.0,>=1.7.4->fastapi) (0.7.0)\n",
            "Requirement already satisfied: pydantic-core==2.33.2 in /usr/local/lib/python3.11/dist-packages (from pydantic!=1.8,!=1.8.1,!=2.0.0,!=2.0.1,!=2.1.0,<3.0.0,>=1.7.4->fastapi) (2.33.2)\n",
            "Requirement already satisfied: typing-inspection>=0.4.0 in /usr/local/lib/python3.11/dist-packages (from pydantic!=1.8,!=1.8.1,!=2.0.0,!=2.0.1,!=2.1.0,<3.0.0,>=1.7.4->fastapi) (0.4.1)\n",
            "Requirement already satisfied: six>=1.5 in /usr/local/lib/python3.11/dist-packages (from python-dateutil>=2.8.2->pandas) (1.17.0)\n",
            "Requirement already satisfied: anyio<5,>=3.6.2 in /usr/local/lib/python3.11/dist-packages (from starlette<0.47.0,>=0.40.0->fastapi) (4.9.0)\n",
            "Requirement already satisfied: idna>=2.8 in /usr/local/lib/python3.11/dist-packages (from anyio<5,>=3.6.2->starlette<0.47.0,>=0.40.0->fastapi) (3.10)\n",
            "Requirement already satisfied: sniffio>=1.1 in /usr/local/lib/python3.11/dist-packages (from anyio<5,>=3.6.2->starlette<0.47.0,>=0.40.0->fastapi) (1.3.1)\n"
          ]
        }
      ],
      "source": [
        "!pip install fastapi uvicorn scikit-learn pandas joblib nest_asyncio"
      ]
    },
    {
      "cell_type": "code",
      "source": [
        "import pandas as pd\n",
        "from sklearn.ensemble import RandomForestClassifier\n",
        "from joblib import dump\n",
        "\n",
        "# Sample dataset\n",
        "data = {\n",
        "    'lines_changed': [10, 500, 30, 800, 15],\n",
        "    'services_impacted': [1, 4, 2, 5, 1],\n",
        "    'weekend_deploy': [0, 1, 0, 1, 0],\n",
        "    'rollback': [0, 1, 0, 1, 0]\n",
        "}\n",
        "\n",
        "df = pd.DataFrame(data)\n",
        "X = df.drop('rollback', axis=1)\n",
        "y = df['rollback']\n",
        "\n",
        "# Train model\n",
        "model = RandomForestClassifier()\n",
        "model.fit(X, y)\n",
        "\n",
        "# Save model\n",
        "dump(model, 'risk_model.joblib')\n"
      ],
      "metadata": {
        "colab": {
          "base_uri": "https://localhost:8080/"
        },
        "id": "zOxv_8RCSSPD",
        "outputId": "20e68b75-48d9-4857-cf20-224a5d3b9809"
      },
      "execution_count": null,
      "outputs": [
        {
          "output_type": "execute_result",
          "data": {
            "text/plain": [
              "['risk_model.joblib']"
            ]
          },
          "metadata": {},
          "execution_count": 27
        }
      ]
    },
    {
      "cell_type": "code",
      "source": [
        "from fastapi import FastAPI\n",
        "from fastapi.responses import HTMLResponse\n",
        "from joblib import load\n",
        "import numpy as np\n",
        "import pandas as pd\n",
        "import random\n",
        "\n",
        "app = FastAPI(title=\"Deployment Risk Assessment API\")\n",
        "model = load('risk_model.joblib')\n",
        "\n",
        "@app.get(\"/\", response_class=HTMLResponse)\n",
        "def home():\n",
        "    return \"\"\"\n",
        "    <html>\n",
        "        <head><title>Deployment Risk Predictor</title></head>\n",
        "        <body style=\"font-family:Arial;\">\n",
        "            <h1>🚀 Deployment Risk Assessment App</h1>\n",
        "            <p>This system predicts the risk of a deployment and triggers a rollback if needed.</p>\n",
        "            <p>👉 Visit <a href='/docs'>/docs</a> to test the API using Swagger UI.</p>\n",
        "            <p>👨‍💻 Author: <b>Kura Akhilesh</b></p>\n",
        "        </body>\n",
        "    </html>\n",
        "    \"\"\"\n",
        "\n",
        "def predict_risk(lines_changed, services_impacted, weekend_deploy):\n",
        "    features = pd.DataFrame([{\n",
        "        'lines_changed': lines_changed,\n",
        "        'services_impacted': services_impacted,\n",
        "        'weekend_deploy': weekend_deploy\n",
        "    }])\n",
        "    return model.predict_proba(features)[0][1]\n",
        "\n",
        "def get_deployment_metrics():\n",
        "    return {\n",
        "        'latency': random.uniform(50, 500),\n",
        "        'error_rate': random.uniform(0.01, 0.2),\n",
        "    }\n",
        "\n",
        "def is_anomalous(metrics):\n",
        "    return metrics['latency'] > 300 or metrics['error_rate'] > 0.1\n",
        "\n",
        "def trigger_rollback():\n",
        "    print(\"⚠️ Rollback triggered! Reverting deployment...\")\n",
        "\n",
        "@app.post(\"/deploy\")\n",
        "def deploy_app(lines_changed: int, services_impacted: int, weekend_deploy: int):\n",
        "    risk = predict_risk(lines_changed, services_impacted, weekend_deploy)\n",
        "    print(f\"Predicted Risk: {risk:.2f}\")\n",
        "\n",
        "    if risk > 0.8:\n",
        "        trigger_rollback()\n",
        "        return {\"status\": \"rollback\", \"reason\": \"High predicted risk\"}\n",
        "\n",
        "    metrics = get_deployment_metrics()\n",
        "    if is_anomalous(metrics):\n",
        "        trigger_rollback()\n",
        "        return {\"status\": \"rollback\", \"reason\": \"Anomaly in metrics\"}\n",
        "\n",
        "    return {\"status\": \"deployed\", \"risk\": round(risk, 2), \"metrics\": metrics}\n"
      ],
      "metadata": {
        "id": "8yCuLY25Sprk"
      },
      "execution_count": null,
      "outputs": []
    },
    {
      "cell_type": "code",
      "source": [
        "import nest_asyncio\n",
        "from pyngrok import ngrok\n",
        "import uvicorn\n",
        "\n",
        "nest_asyncio.apply()\n",
        "\n",
        "# Open ngrok tunnel\n",
        "public_url = ngrok.connect(8000)\n",
        "print(\"🚀 Public FastAPI URL:\", public_url)\n",
        "\n",
        "# Start FastAPI server\n",
        "uvicorn.run(app, host=\"0.0.0.0\", port=8000)\n"
      ],
      "metadata": {
        "colab": {
          "base_uri": "https://localhost:8080/"
        },
        "collapsed": true,
        "id": "2EyqjzuNSvVs",
        "outputId": "60e37bb3-e5f6-4b70-ee15-95b3f500308b"
      },
      "execution_count": null,
      "outputs": [
        {
          "metadata": {
            "tags": null
          },
          "name": "stdout",
          "output_type": "stream",
          "text": [
            "🚀 Public FastAPI URL: NgrokTunnel: \"https://9efc-34-118-242-131.ngrok-free.app\" -> \"http://localhost:8000\"\n"
          ]
        },
        {
          "metadata": {
            "tags": null
          },
          "name": "stderr",
          "output_type": "stream",
          "text": [
            "INFO:     Started server process [1146]\n",
            "INFO:     Waiting for application startup.\n",
            "INFO:     Application startup complete.\n",
            "INFO:     Uvicorn running on http://0.0.0.0:8000 (Press CTRL+C to quit)\n"
          ]
        },
        {
          "metadata": {
            "tags": null
          },
          "name": "stdout",
          "output_type": "stream",
          "text": [
            "INFO:     103.255.144.74:0 - \"GET / HTTP/1.1\" 200 OK\n",
            "INFO:     103.255.144.74:0 - \"GET /favicon.ico HTTP/1.1\" 404 Not Found\n",
            "INFO:     103.255.144.74:0 - \"GET /docs HTTP/1.1\" 200 OK\n",
            "INFO:     103.255.144.74:0 - \"GET /openapi.json HTTP/1.1\" 200 OK\n",
            "INFO:     103.255.144.74:0 - \"GET /docs HTTP/1.1\" 200 OK\n",
            "INFO:     103.255.144.74:0 - \"GET /openapi.json HTTP/1.1\" 200 OK\n",
            "Predicted Risk: 0.53\n",
            "INFO:     103.255.144.74:0 - \"POST /deploy?lines_changed=400&services_impacted=3&weekend_deploy=1 HTTP/1.1\" 200 OK\n",
            "Predicted Risk: 0.53\n",
            "⚠️ Rollback triggered! Reverting deployment...\n",
            "INFO:     103.255.144.74:0 - \"POST /deploy?lines_changed=400&services_impacted=3&weekend_deploy=1 HTTP/1.1\" 200 OK\n",
            "INFO:     103.255.144.74:0 - \"GET /deploy?lines_changed=400&services_impacted=3&weekend_deploy=1 HTTP/1.1\" 405 Method Not Allowed\n",
            "INFO:     103.255.144.74:0 - \"GET /docs HTTP/1.1\" 200 OK\n",
            "INFO:     103.255.144.74:0 - \"GET /openapi.json HTTP/1.1\" 200 OK\n",
            "Predicted Risk: 0.53\n",
            "INFO:     103.255.144.74:0 - \"POST /deploy?lines_changed=400&services_impacted=3&weekend_deploy=1 HTTP/1.1\" 200 OK\n",
            "INFO:     103.255.144.74:0 - \"GET / HTTP/1.1\" 200 OK\n"
          ]
        }
      ]
    },
    {
      "cell_type": "code",
      "source": [
        "deploy_app(lines_changed=400, services_impacted=3, weekend_deploy=1)\n"
      ],
      "metadata": {
        "colab": {
          "base_uri": "https://localhost:8080/"
        },
        "id": "ahCYshyeS4IX",
        "outputId": "590d2f7b-7f1e-4207-b6ff-4ba5fea89c81"
      },
      "execution_count": null,
      "outputs": [
        {
          "output_type": "stream",
          "name": "stdout",
          "text": [
            "Predicted Risk: 0.65\n",
            "⚠️ Rollback triggered! Reverting deployment...\n"
          ]
        },
        {
          "output_type": "stream",
          "name": "stderr",
          "text": [
            "/usr/local/lib/python3.11/dist-packages/sklearn/utils/validation.py:2739: UserWarning: X does not have valid feature names, but RandomForestClassifier was fitted with feature names\n",
            "  warnings.warn(\n"
          ]
        },
        {
          "output_type": "execute_result",
          "data": {
            "text/plain": [
              "{'status': 'rollback', 'reason': 'Anomaly in metrics'}"
            ]
          },
          "metadata": {},
          "execution_count": 14
        }
      ]
    },
    {
      "cell_type": "code",
      "source": [
        "!pip install pyngrok\n"
      ],
      "metadata": {
        "colab": {
          "base_uri": "https://localhost:8080/"
        },
        "collapsed": true,
        "id": "JlA_XefsTI63",
        "outputId": "8f9bf4f4-8ff1-48ff-9923-be4a6a15243c"
      },
      "execution_count": null,
      "outputs": [
        {
          "output_type": "stream",
          "name": "stdout",
          "text": [
            "Collecting pyngrok\n",
            "  Downloading pyngrok-7.2.11-py3-none-any.whl.metadata (9.4 kB)\n",
            "Requirement already satisfied: PyYAML>=5.1 in /usr/local/lib/python3.11/dist-packages (from pyngrok) (6.0.2)\n",
            "Downloading pyngrok-7.2.11-py3-none-any.whl (25 kB)\n",
            "Installing collected packages: pyngrok\n",
            "Successfully installed pyngrok-7.2.11\n"
          ]
        },
        {
          "output_type": "stream",
          "name": "stderr",
          "text": [
            "ERROR:asyncio:Task exception was never retrieved\n",
            "future: <Task finished name='Task-1' coro=<Server.serve() done, defined at /usr/local/lib/python3.11/dist-packages/uvicorn/server.py:69> exception=KeyboardInterrupt()>\n",
            "Traceback (most recent call last):\n",
            "  File \"/usr/local/lib/python3.11/dist-packages/uvicorn/main.py\", line 580, in run\n",
            "    server.run()\n",
            "  File \"/usr/local/lib/python3.11/dist-packages/uvicorn/server.py\", line 67, in run\n",
            "    return asyncio.run(self.serve(sockets=sockets))\n",
            "           ^^^^^^^^^^^^^^^^^^^^^^^^^^^^^^^^^^^^^^^^\n",
            "  File \"/usr/local/lib/python3.11/dist-packages/nest_asyncio.py\", line 30, in run\n",
            "    return loop.run_until_complete(task)\n",
            "           ^^^^^^^^^^^^^^^^^^^^^^^^^^^^^\n",
            "  File \"/usr/local/lib/python3.11/dist-packages/nest_asyncio.py\", line 92, in run_until_complete\n",
            "    self._run_once()\n",
            "  File \"/usr/local/lib/python3.11/dist-packages/nest_asyncio.py\", line 133, in _run_once\n",
            "    handle._run()\n",
            "  File \"/usr/lib/python3.11/asyncio/events.py\", line 84, in _run\n",
            "    self._context.run(self._callback, *self._args)\n",
            "  File \"/usr/lib/python3.11/asyncio/tasks.py\", line 360, in __wakeup\n",
            "    self.__step()\n",
            "  File \"/usr/lib/python3.11/asyncio/tasks.py\", line 277, in __step\n",
            "    result = coro.send(None)\n",
            "             ^^^^^^^^^^^^^^^\n",
            "  File \"/usr/local/lib/python3.11/dist-packages/uvicorn/server.py\", line 70, in serve\n",
            "    with self.capture_signals():\n",
            "  File \"/usr/lib/python3.11/contextlib.py\", line 144, in __exit__\n",
            "    next(self.gen)\n",
            "  File \"/usr/local/lib/python3.11/dist-packages/uvicorn/server.py\", line 331, in capture_signals\n",
            "    signal.raise_signal(captured_signal)\n",
            "KeyboardInterrupt\n"
          ]
        }
      ]
    },
    {
      "cell_type": "code",
      "source": [
        "!ngrok config add-authtoken 2zX8Ytzj1e9i5MKvPocYXdz00xH_4qXqPd5Qu8SPSb5c9oWa9\n"
      ],
      "metadata": {
        "colab": {
          "base_uri": "https://localhost:8080/"
        },
        "id": "nbLXeh6-Wd64",
        "outputId": "873fa8c6-24e1-4193-e719-305497a452ab"
      },
      "execution_count": null,
      "outputs": [
        {
          "output_type": "stream",
          "name": "stdout",
          "text": [
            "Authtoken saved to configuration file: /root/.config/ngrok/ngrok.yml\n"
          ]
        }
      ]
    },
    {
      "cell_type": "code",
      "source": [],
      "metadata": {
        "id": "YfKYW6c0XTHs"
      },
      "execution_count": null,
      "outputs": []
    }
  ]
}